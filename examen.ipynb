{
  "nbformat": 4,
  "nbformat_minor": 0,
  "metadata": {
    "colab": {
      "name": "examen.ipynb",
      "provenance": [],
      "collapsed_sections": []
    },
    "kernelspec": {
      "name": "python3",
      "display_name": "Python 3"
    },
    "language_info": {
      "name": "python"
    }
  },
  "cells": [
    {
      "cell_type": "code",
      "execution_count": null,
      "metadata": {
        "id": "9xClQvfrO3V8"
      },
      "outputs": [],
      "source": [
        "import pandas as pd\n",
        "import numpy as np\n",
        "import seaborn as sns\n",
        "import matplotlib.pyplot as plt\n",
        "from sklearn.preprocessing import RobustScaler, StandardScaler, MinMaxScaler, OneHotEncoder, LabelEncoder\n",
        "from sklearn.model_selection import cross_val_score, train_test_split, cross_val_predict\n",
        "from sklearn.ensemble import RandomForestClassifier\n",
        "from sklearn.metrics import roc_auc_score\n",
        "import xgboost as xgb\n",
        "from xgboost import XGBClassifier\n",
        "from sklearn.linear_model import LogisticRegression\n"
      ]
    },
    {
      "cell_type": "code",
      "source": [
        "# L'importation du dataset\n",
        "df = pd.read_csv (\"train.csv\")"
      ],
      "metadata": {
        "id": "KTIE-sk6QNFV"
      },
      "execution_count": null,
      "outputs": []
    },
    {
      "cell_type": "code",
      "source": [
        "# On verifie si les colonnes contiennent des valeurs null ou non.\n",
        "df.isna().any()"
      ],
      "metadata": {
        "colab": {
          "base_uri": "https://localhost:8080/"
        },
        "id": "rH0S9W2wXatK",
        "outputId": "f0ca830f-0d6a-4b8a-d998-a626a3f8a9c8"
      },
      "execution_count": null,
      "outputs": [
        {
          "output_type": "execute_result",
          "data": {
            "text/plain": [
              "id                         False\n",
              "Administrative              True\n",
              "Administrative_Duration     True\n",
              "Informational               True\n",
              "Informational_Duration      True\n",
              "ProductRelated              True\n",
              "ProductRelated_Duration     True\n",
              "BounceRates                 True\n",
              "ExitRates                   True\n",
              "PageValues                 False\n",
              "SpecialDay                 False\n",
              "Month                      False\n",
              "OperatingSystems           False\n",
              "Browser                    False\n",
              "Region                     False\n",
              "TrafficType                False\n",
              "VisitorType                False\n",
              "Weekend                    False\n",
              "Revenue                    False\n",
              "dtype: bool"
            ]
          },
          "metadata": {},
          "execution_count": 246
        }
      ]
    },
    {
      "cell_type": "code",
      "source": [
        "# Eliminer les lignes ayant des valeurs null\n",
        "df.dropna(inplace=True) \n",
        "df.isna().any()\n"
      ],
      "metadata": {
        "colab": {
          "base_uri": "https://localhost:8080/"
        },
        "id": "epUO6jtlaK3p",
        "outputId": "961b32c7-92cf-404c-f712-382df6079eeb"
      },
      "execution_count": null,
      "outputs": [
        {
          "output_type": "execute_result",
          "data": {
            "text/plain": [
              "id                         False\n",
              "Administrative             False\n",
              "Administrative_Duration    False\n",
              "Informational              False\n",
              "Informational_Duration     False\n",
              "ProductRelated             False\n",
              "ProductRelated_Duration    False\n",
              "BounceRates                False\n",
              "ExitRates                  False\n",
              "PageValues                 False\n",
              "SpecialDay                 False\n",
              "Month                      False\n",
              "OperatingSystems           False\n",
              "Browser                    False\n",
              "Region                     False\n",
              "TrafficType                False\n",
              "VisitorType                False\n",
              "Weekend                    False\n",
              "Revenue                    False\n",
              "dtype: bool"
            ]
          },
          "metadata": {},
          "execution_count": 247
        }
      ]
    },
    {
      "cell_type": "code",
      "source": [
        "# on verifie le type de chaque colonne.\n",
        "df.dtypes"
      ],
      "metadata": {
        "colab": {
          "base_uri": "https://localhost:8080/"
        },
        "id": "NQP4m7WFbBrU",
        "outputId": "11530b3e-36f0-4b4d-f19f-cef6fef73873"
      },
      "execution_count": null,
      "outputs": [
        {
          "output_type": "execute_result",
          "data": {
            "text/plain": [
              "id                           int64\n",
              "Administrative             float64\n",
              "Administrative_Duration    float64\n",
              "Informational              float64\n",
              "Informational_Duration     float64\n",
              "ProductRelated             float64\n",
              "ProductRelated_Duration    float64\n",
              "BounceRates                float64\n",
              "ExitRates                  float64\n",
              "PageValues                 float64\n",
              "SpecialDay                 float64\n",
              "Month                       object\n",
              "OperatingSystems             int64\n",
              "Browser                      int64\n",
              "Region                       int64\n",
              "TrafficType                  int64\n",
              "VisitorType                 object\n",
              "Weekend                       bool\n",
              "Revenue                       bool\n",
              "dtype: object"
            ]
          },
          "metadata": {},
          "execution_count": 248
        }
      ]
    },
    {
      "cell_type": "code",
      "source": [
        "# Convertir les valeurs en entiers \n",
        "df = df.astype({\n",
        "    \"Administrative\":\"int\", \"Administrative_Duration\":\"int\",\"Informational\":\"int\",\"Informational_Duration\":\"int\",\n",
        "    \"ProductRelated\":\"int\",\"ProductRelated_Duration\":\"int\", \"BounceRates\":\"int\", \"ExitRates\":\"int\", \"PageValues\":\"int\",\n",
        "    \"SpecialDay\":\"int\"\n",
        "}) \n",
        "\n",
        "df.dtypes\n"
      ],
      "metadata": {
        "colab": {
          "base_uri": "https://localhost:8080/"
        },
        "id": "D1NivxkFVNiu",
        "outputId": "69431bf7-3834-4b99-adb8-793e1d075f98"
      },
      "execution_count": null,
      "outputs": [
        {
          "output_type": "execute_result",
          "data": {
            "text/plain": [
              "id                          int64\n",
              "Administrative              int64\n",
              "Administrative_Duration     int64\n",
              "Informational               int64\n",
              "Informational_Duration      int64\n",
              "ProductRelated              int64\n",
              "ProductRelated_Duration     int64\n",
              "BounceRates                 int64\n",
              "ExitRates                   int64\n",
              "PageValues                  int64\n",
              "SpecialDay                  int64\n",
              "Month                      object\n",
              "OperatingSystems            int64\n",
              "Browser                     int64\n",
              "Region                      int64\n",
              "TrafficType                 int64\n",
              "VisitorType                object\n",
              "Weekend                      bool\n",
              "Revenue                      bool\n",
              "dtype: object"
            ]
          },
          "metadata": {},
          "execution_count": 249
        }
      ]
    },
    {
      "cell_type": "code",
      "source": [
        "# Convertir les variables catégorielles en des valeurs numeriques\n",
        "label_encoder = LabelEncoder()\n",
        "\n",
        "\n",
        "print(\"-------------- Month column -----------------\")\n",
        "print(df['Month'].unique())\n",
        "df[\"Month\"] = label_encoder.fit_transform(df[\"Month\"])\n",
        "print(df['Month'].unique())\n",
        "\n",
        "\n",
        "print(\"-------------- VisitorType column -----------------\")\n",
        "print(df['VisitorType'].unique())\n",
        "df[\"VisitorType\"] = label_encoder.fit_transform(df[\"VisitorType\"])\n",
        "print(df['VisitorType'].unique())\n",
        "\n",
        "print(\"-------------- Revenue column -----------------\")\n",
        "print(df['Revenue'].unique())\n",
        "df[\"Revenue\"] = label_encoder.fit_transform(df[\"Revenue\"])\n",
        "print(df['Revenue'].unique())\n",
        "\n",
        "print(\"-------------- Weekend column -----------------\")\n",
        "print(df['Weekend'].unique())\n",
        "df[\"Weekend\"] = label_encoder.fit_transform(df[\"Weekend\"])\n",
        "print(df['Weekend'].unique())\n",
        "\n",
        "\n",
        "print(\"-------------------------------------------\")\n",
        "\n",
        "df.dtypes\n",
        "\n"
      ],
      "metadata": {
        "id": "lZSPmuBJX50F"
      },
      "execution_count": null,
      "outputs": []
    },
    {
      "cell_type": "code",
      "source": [
        "df.hist(figsize=(15,20))"
      ],
      "metadata": {
        "colab": {
          "base_uri": "https://localhost:8080/",
          "height": 172
        },
        "id": "XESPOhosrcN1",
        "outputId": "a87d49ad-2ef8-4774-b771-450b1d64c283"
      },
      "execution_count": null,
      "outputs": [
        {
          "output_type": "error",
          "ename": "NameError",
          "evalue": "ignored",
          "traceback": [
            "\u001b[0;31m---------------------------------------------------------------------------\u001b[0m",
            "\u001b[0;31mNameError\u001b[0m                                 Traceback (most recent call last)",
            "\u001b[0;32m<ipython-input-1-5ce5a7b11af7>\u001b[0m in \u001b[0;36m<module>\u001b[0;34m()\u001b[0m\n\u001b[0;32m----> 1\u001b[0;31m \u001b[0mdf\u001b[0m\u001b[0;34m.\u001b[0m\u001b[0mhist\u001b[0m\u001b[0;34m(\u001b[0m\u001b[0mfigsize\u001b[0m\u001b[0;34m=\u001b[0m\u001b[0;34m(\u001b[0m\u001b[0;36m15\u001b[0m\u001b[0;34m,\u001b[0m\u001b[0;36m20\u001b[0m\u001b[0;34m)\u001b[0m\u001b[0;34m)\u001b[0m\u001b[0;34m\u001b[0m\u001b[0;34m\u001b[0m\u001b[0m\n\u001b[0m",
            "\u001b[0;31mNameError\u001b[0m: name 'df' is not defined"
          ]
        }
      ]
    },
    {
      "cell_type": "code",
      "source": [
        "# Séparer la colonne a predire et le reste des colonnes\n",
        "y = df[['Revenue']]\n",
        "X = df.drop(columns=['Revenue'])\n",
        "\n",
        "print(\"-------------- X -------------\")\n",
        "print(X.info())\n",
        "print(\"-------------- y -------------\")\n",
        "print(y.info())"
      ],
      "metadata": {
        "id": "Mpt8ZipMUaeS"
      },
      "execution_count": null,
      "outputs": []
    },
    {
      "cell_type": "code",
      "source": [
        "# on separe la colonne a predire et le rest du \"dataset\" en train et test \n",
        "\n",
        "from sklearn import linear_model\n",
        "from sklearn import metrics\n",
        "X_train, X_test, y_train, y_test = train_test_split(X,y,test_size=.2)"
      ],
      "metadata": {
        "id": "uwJ3jfcHULm8"
      },
      "execution_count": null,
      "outputs": []
    },
    {
      "cell_type": "code",
      "source": [
        "y_pred = model.predict(X_test)"
      ],
      "metadata": {
        "id": "87XUlhqXxmZu"
      },
      "execution_count": null,
      "outputs": []
    },
    {
      "cell_type": "code",
      "source": [
        "# Evaluation\n",
        "\n",
        "from sklearn.metrics import accuracy_score\n",
        "accuracy_score(y_test, y_pred)"
      ],
      "metadata": {
        "colab": {
          "base_uri": "https://localhost:8080/"
        },
        "id": "OBkmij2txph3",
        "outputId": "d815a420-1f28-4031-a2bd-2df13f1f6b6a"
      },
      "execution_count": null,
      "outputs": [
        {
          "output_type": "execute_result",
          "data": {
            "text/plain": [
              "0.9845183486238532"
            ]
          },
          "metadata": {},
          "execution_count": 255
        }
      ]
    },
    {
      "cell_type": "code",
      "source": [
        "# Evaluation selon roc_auc_score\n",
        "\n",
        "from sklearn.metrics import roc_auc_score\n",
        "roc_auc_score(y_test, y_pred)"
      ],
      "metadata": {
        "colab": {
          "base_uri": "https://localhost:8080/"
        },
        "id": "FcisteHDxt2z",
        "outputId": "16147dfe-56fd-48be-82e0-8606babe029c"
      },
      "execution_count": null,
      "outputs": [
        {
          "output_type": "execute_result",
          "data": {
            "text/plain": [
              "0.955127391678299"
            ]
          },
          "metadata": {},
          "execution_count": 256
        }
      ]
    },
    {
      "cell_type": "code",
      "source": [
        "from sklearn.ensemble import RandomForestClassifier\n",
        "clf = RandomForestClassifier(max_depth=17, random_state=0)\n",
        "clf.fit(X_train, y_train.values.ravel())\n",
        "y_pred1 = clf.predict(X_test)"
      ],
      "metadata": {
        "id": "dIZsOxZCxyAH"
      },
      "execution_count": null,
      "outputs": []
    },
    {
      "cell_type": "code",
      "source": [
        "accuracy_score(y_test, y_pred1)"
      ],
      "metadata": {
        "colab": {
          "base_uri": "https://localhost:8080/"
        },
        "id": "bXgSRMHHyOiL",
        "outputId": "e52c4ed7-c66a-470e-caf2-4d3cbf4cb7bc"
      },
      "execution_count": null,
      "outputs": [
        {
          "output_type": "execute_result",
          "data": {
            "text/plain": [
              "0.9145642201834863"
            ]
          },
          "metadata": {},
          "execution_count": 258
        }
      ]
    },
    {
      "cell_type": "code",
      "source": [
        "roc_auc_score(y_test, y_pred1)"
      ],
      "metadata": {
        "colab": {
          "base_uri": "https://localhost:8080/"
        },
        "id": "JX-ErPcmyVmw",
        "outputId": "ab922544-f5cd-48ed-fa22-c75526208e1b"
      },
      "execution_count": null,
      "outputs": [
        {
          "output_type": "execute_result",
          "data": {
            "text/plain": [
              "0.7943502107919858"
            ]
          },
          "metadata": {},
          "execution_count": 259
        }
      ]
    },
    {
      "cell_type": "code",
      "source": [
        "clf1 = RandomForestClassifier(n_estimators= 200, max_depth = 30 )\n",
        "clf1.fit(X_train, y_train.values.ravel())\n",
        "y_pred2 = clf1.predict(X_test)"
      ],
      "metadata": {
        "id": "0aiRrH4DyYdM"
      },
      "execution_count": null,
      "outputs": []
    },
    {
      "cell_type": "code",
      "source": [
        "accuracy_score(y_test, y_pred2)"
      ],
      "metadata": {
        "colab": {
          "base_uri": "https://localhost:8080/"
        },
        "id": "IQkmZjRiyesA",
        "outputId": "99ce9790-2f2a-45b8-8dfc-1184b70d0aac"
      },
      "execution_count": null,
      "outputs": [
        {
          "output_type": "execute_result",
          "data": {
            "text/plain": [
              "0.911697247706422"
            ]
          },
          "metadata": {},
          "execution_count": 261
        }
      ]
    },
    {
      "cell_type": "code",
      "source": [
        "roc_auc_score(y_test, y_pred2)"
      ],
      "metadata": {
        "colab": {
          "base_uri": "https://localhost:8080/"
        },
        "id": "ACoCHG7jyhj6",
        "outputId": "5af7808b-abee-4101-8eb0-d180f42e948d"
      },
      "execution_count": null,
      "outputs": [
        {
          "output_type": "execute_result",
          "data": {
            "text/plain": [
              "0.7926934844831719"
            ]
          },
          "metadata": {},
          "execution_count": 262
        }
      ]
    },
    {
      "cell_type": "code",
      "source": [
        "from sklearn.metrics import accuracy_score, precision_score, recall_score, f1_score\n",
        "\n",
        "y_pred2 = clf1.predict(X_test)\n",
        "\n",
        "print(accuracy_score(y_pred2, y_test),\n",
        "precision_score(y_pred2, y_test,average='micro'),\n",
        "recall_score(y_pred2, y_test,average='micro'),\n",
        "f1_score(y_pred2, y_test,average='micro'))"
      ],
      "metadata": {
        "colab": {
          "base_uri": "https://localhost:8080/"
        },
        "id": "54djQsTtykkg",
        "outputId": "a2f1f04a-1d1d-4d3d-e378-6f1c82ea1615"
      },
      "execution_count": null,
      "outputs": [
        {
          "output_type": "stream",
          "name": "stdout",
          "text": [
            "0.911697247706422 0.911697247706422 0.911697247706422 0.911697247706422\n"
          ]
        }
      ]
    },
    {
      "cell_type": "code",
      "source": [
        "model = XGBClassifier(learning_rate = 0.1, n_estimators=150, min_child_weight=3,  max_depth=13)\n",
        "model.fit(X_train, y_train.values.ravel())"
      ],
      "metadata": {
        "colab": {
          "base_uri": "https://localhost:8080/"
        },
        "id": "0e-kTOLwyoKG",
        "outputId": "4ec17bdb-dd74-48fd-8c04-e5ee0fe4e0ce"
      },
      "execution_count": null,
      "outputs": [
        {
          "output_type": "execute_result",
          "data": {
            "text/plain": [
              "XGBClassifier(max_depth=13, min_child_weight=3, n_estimators=150)"
            ]
          },
          "metadata": {},
          "execution_count": 264
        }
      ]
    },
    {
      "cell_type": "code",
      "source": [
        "y_pred3 = model.predict(X_test)"
      ],
      "metadata": {
        "id": "PBFZEBE9y-jA"
      },
      "execution_count": null,
      "outputs": []
    },
    {
      "cell_type": "code",
      "source": [
        "accuracy_score(y_test, y_pred3)"
      ],
      "metadata": {
        "colab": {
          "base_uri": "https://localhost:8080/"
        },
        "id": "Rb-tRueHzIMH",
        "outputId": "ce0d52e9-753f-4371-e5ba-1a3f759bd814"
      },
      "execution_count": null,
      "outputs": [
        {
          "output_type": "execute_result",
          "data": {
            "text/plain": [
              "0.9036697247706422"
            ]
          },
          "metadata": {},
          "execution_count": 268
        }
      ]
    },
    {
      "cell_type": "code",
      "source": [
        "roc_auc_score(y_test, y_pred3)"
      ],
      "metadata": {
        "colab": {
          "base_uri": "https://localhost:8080/"
        },
        "id": "dHr-0X4BzKX4",
        "outputId": "6dd4d340-6c9b-44ea-92fc-265c59ef4ff1"
      },
      "execution_count": null,
      "outputs": [
        {
          "output_type": "execute_result",
          "data": {
            "text/plain": [
              "0.7934435937566092"
            ]
          },
          "metadata": {},
          "execution_count": 267
        }
      ]
    },
    {
      "cell_type": "code",
      "source": [
        "from sklearn.neighbors import KNeighborsClassifier\n",
        "from sklearn.tree import DecisionTreeClassifier\n",
        "from sklearn.svm import SVC \n",
        "from sklearn.linear_model import LogisticRegression\n",
        "from sklearn.naive_bayes import GaussianNB\n",
        "from sklearn.ensemble import GradientBoostingClassifier, RandomForestClassifier, VotingClassifier\n",
        "from sklearn.metrics import f1_score \n",
        "\n",
        "knn = KNeighborsClassifier()\n",
        "tree = DecisionTreeClassifier()\n",
        "svm = SVC()\n",
        "log = LogisticRegression()\n",
        "naive = GaussianNB()\n",
        "\n",
        "gbc = GradientBoostingClassifier()\n",
        "rfc = RandomForestClassifier()\n",
        "\n",
        "for model, name in [ [knn,'knn'], [tree,'tree'], [naive,'naive'], [svm,'svm'], [gbc, 'gbc'], [rfc,'rfc'] ]:\n",
        "  model.fit(X_train, y_train.values.ravel())\n",
        "  y_preds = model.predict(X_test)\n",
        "  print(\n",
        "      f'{name}: {f1_score(y_preds, y_test, average=\"weighted\")}'\n",
        "      )"
      ],
      "metadata": {
        "colab": {
          "base_uri": "https://localhost:8080/"
        },
        "id": "z4dmYzKlzN4H",
        "outputId": "c40fe565-7c8e-4617-f4cc-8c9f3b911ad6"
      },
      "execution_count": null,
      "outputs": [
        {
          "output_type": "stream",
          "name": "stdout",
          "text": [
            "knn: 0.8889279278835672\n",
            "tree: 0.8726030611707786\n",
            "naive: 0.8771127861699034\n",
            "svm: 0.9277589916999692\n",
            "gbc: 0.9103633996716395\n",
            "rfc: 0.9134382363415952\n"
          ]
        }
      ]
    },
    {
      "cell_type": "code",
      "source": [
        "# Importation du dataset test.\n",
        "\n",
        "df_test = pd.read_csv (\"test.csv\")\n",
        "df.isna().any()"
      ],
      "metadata": {
        "colab": {
          "base_uri": "https://localhost:8080/"
        },
        "id": "jgEFhHvV2TIn",
        "outputId": "c03a777d-e193-42be-c364-fcc1f06079cc"
      },
      "execution_count": null,
      "outputs": [
        {
          "output_type": "execute_result",
          "data": {
            "text/plain": [
              "id                         False\n",
              "Administrative             False\n",
              "Administrative_Duration    False\n",
              "Informational              False\n",
              "Informational_Duration     False\n",
              "ProductRelated             False\n",
              "ProductRelated_Duration    False\n",
              "BounceRates                False\n",
              "ExitRates                  False\n",
              "PageValues                 False\n",
              "SpecialDay                 False\n",
              "Month                      False\n",
              "OperatingSystems           False\n",
              "Browser                    False\n",
              "Region                     False\n",
              "TrafficType                False\n",
              "VisitorType                False\n",
              "Weekend                    False\n",
              "Revenue                    False\n",
              "dtype: bool"
            ]
          },
          "metadata": {},
          "execution_count": 272
        }
      ]
    },
    {
      "cell_type": "code",
      "source": [
        "df_test.dtypes\n"
      ],
      "metadata": {
        "colab": {
          "base_uri": "https://localhost:8080/"
        },
        "id": "wfSyvFcqzYnH",
        "outputId": "29af5ad6-bd5a-4858-d50c-287259eb6b40"
      },
      "execution_count": null,
      "outputs": [
        {
          "output_type": "execute_result",
          "data": {
            "text/plain": [
              "id                           int64\n",
              "Administrative             float64\n",
              "Administrative_Duration    float64\n",
              "Informational              float64\n",
              "Informational_Duration     float64\n",
              "ProductRelated             float64\n",
              "ProductRelated_Duration    float64\n",
              "BounceRates                float64\n",
              "ExitRates                  float64\n",
              "PageValues                 float64\n",
              "SpecialDay                 float64\n",
              "Month                       object\n",
              "OperatingSystems             int64\n",
              "Browser                      int64\n",
              "Region                       int64\n",
              "TrafficType                  int64\n",
              "VisitorType                 object\n",
              "Weekend                       bool\n",
              "dtype: object"
            ]
          },
          "metadata": {},
          "execution_count": 273
        }
      ]
    },
    {
      "cell_type": "code",
      "source": [
        "# Convertir les valeurs en entiers \n",
        "df_test = df_test.astype({\n",
        "    \"Administrative\":\"int\", \"Administrative_Duration\":\"int\",\"Informational\":\"int\",\"Informational_Duration\":\"int\",\n",
        "    \"ProductRelated\":\"int\",\"ProductRelated_Duration\":\"int\", \"BounceRates\":\"int\", \"ExitRates\":\"int\", \"PageValues\":\"int\",\n",
        "    \"SpecialDay\":\"int\"\n",
        "}) \n",
        "\n",
        "# Convertir les variables catégorielles en des valeurs numeriques\n",
        "label_encoder = LabelEncoder()\n",
        "df_test[\"Month\"] = label_encoder.fit_transform(df_test[\"Month\"])\n",
        "df_test[\"VisitorType\"] = label_encoder.fit_transform(df_test[\"VisitorType\"])\n",
        "df_test[\"Weekend\"] = label_encoder.fit_transform(df_test[\"Weekend\"])\n",
        "\n",
        "df_test"
      ],
      "metadata": {
        "colab": {
          "base_uri": "https://localhost:8080/",
          "height": 443
        },
        "id": "SDqz7hVfAsG6",
        "outputId": "d1569e4d-26d8-4df4-b050-05554a7c1914"
      },
      "execution_count": null,
      "outputs": [
        {
          "output_type": "execute_result",
          "data": {
            "text/html": [
              "<div>\n",
              "<style scoped>\n",
              "    .dataframe tbody tr th:only-of-type {\n",
              "        vertical-align: middle;\n",
              "    }\n",
              "\n",
              "    .dataframe tbody tr th {\n",
              "        vertical-align: top;\n",
              "    }\n",
              "\n",
              "    .dataframe thead th {\n",
              "        text-align: right;\n",
              "    }\n",
              "</style>\n",
              "<table border=\"1\" class=\"dataframe\">\n",
              "  <thead>\n",
              "    <tr style=\"text-align: right;\">\n",
              "      <th></th>\n",
              "      <th>id</th>\n",
              "      <th>Administrative</th>\n",
              "      <th>Administrative_Duration</th>\n",
              "      <th>Informational</th>\n",
              "      <th>Informational_Duration</th>\n",
              "      <th>ProductRelated</th>\n",
              "      <th>ProductRelated_Duration</th>\n",
              "      <th>BounceRates</th>\n",
              "      <th>ExitRates</th>\n",
              "      <th>PageValues</th>\n",
              "      <th>SpecialDay</th>\n",
              "      <th>Month</th>\n",
              "      <th>OperatingSystems</th>\n",
              "      <th>Browser</th>\n",
              "      <th>Region</th>\n",
              "      <th>TrafficType</th>\n",
              "      <th>VisitorType</th>\n",
              "      <th>Weekend</th>\n",
              "    </tr>\n",
              "  </thead>\n",
              "  <tbody>\n",
              "    <tr>\n",
              "      <th>0</th>\n",
              "      <td>8732</td>\n",
              "      <td>0</td>\n",
              "      <td>0</td>\n",
              "      <td>0</td>\n",
              "      <td>0</td>\n",
              "      <td>11</td>\n",
              "      <td>877</td>\n",
              "      <td>0</td>\n",
              "      <td>0</td>\n",
              "      <td>0</td>\n",
              "      <td>0</td>\n",
              "      <td>1</td>\n",
              "      <td>1</td>\n",
              "      <td>1</td>\n",
              "      <td>4</td>\n",
              "      <td>2</td>\n",
              "      <td>0</td>\n",
              "      <td>0</td>\n",
              "    </tr>\n",
              "    <tr>\n",
              "      <th>1</th>\n",
              "      <td>8733</td>\n",
              "      <td>0</td>\n",
              "      <td>0</td>\n",
              "      <td>0</td>\n",
              "      <td>0</td>\n",
              "      <td>1</td>\n",
              "      <td>0</td>\n",
              "      <td>0</td>\n",
              "      <td>0</td>\n",
              "      <td>0</td>\n",
              "      <td>0</td>\n",
              "      <td>1</td>\n",
              "      <td>3</td>\n",
              "      <td>2</td>\n",
              "      <td>3</td>\n",
              "      <td>10</td>\n",
              "      <td>1</td>\n",
              "      <td>0</td>\n",
              "    </tr>\n",
              "    <tr>\n",
              "      <th>2</th>\n",
              "      <td>8734</td>\n",
              "      <td>3</td>\n",
              "      <td>99</td>\n",
              "      <td>0</td>\n",
              "      <td>0</td>\n",
              "      <td>31</td>\n",
              "      <td>835</td>\n",
              "      <td>0</td>\n",
              "      <td>0</td>\n",
              "      <td>47</td>\n",
              "      <td>0</td>\n",
              "      <td>1</td>\n",
              "      <td>2</td>\n",
              "      <td>2</td>\n",
              "      <td>1</td>\n",
              "      <td>10</td>\n",
              "      <td>2</td>\n",
              "      <td>0</td>\n",
              "    </tr>\n",
              "    <tr>\n",
              "      <th>3</th>\n",
              "      <td>8735</td>\n",
              "      <td>5</td>\n",
              "      <td>104</td>\n",
              "      <td>0</td>\n",
              "      <td>0</td>\n",
              "      <td>39</td>\n",
              "      <td>805</td>\n",
              "      <td>0</td>\n",
              "      <td>0</td>\n",
              "      <td>2</td>\n",
              "      <td>0</td>\n",
              "      <td>0</td>\n",
              "      <td>2</td>\n",
              "      <td>2</td>\n",
              "      <td>2</td>\n",
              "      <td>2</td>\n",
              "      <td>2</td>\n",
              "      <td>0</td>\n",
              "    </tr>\n",
              "    <tr>\n",
              "      <th>4</th>\n",
              "      <td>8736</td>\n",
              "      <td>1</td>\n",
              "      <td>21</td>\n",
              "      <td>0</td>\n",
              "      <td>0</td>\n",
              "      <td>16</td>\n",
              "      <td>375</td>\n",
              "      <td>0</td>\n",
              "      <td>0</td>\n",
              "      <td>0</td>\n",
              "      <td>0</td>\n",
              "      <td>0</td>\n",
              "      <td>1</td>\n",
              "      <td>1</td>\n",
              "      <td>1</td>\n",
              "      <td>2</td>\n",
              "      <td>0</td>\n",
              "      <td>0</td>\n",
              "    </tr>\n",
              "    <tr>\n",
              "      <th>...</th>\n",
              "      <td>...</td>\n",
              "      <td>...</td>\n",
              "      <td>...</td>\n",
              "      <td>...</td>\n",
              "      <td>...</td>\n",
              "      <td>...</td>\n",
              "      <td>...</td>\n",
              "      <td>...</td>\n",
              "      <td>...</td>\n",
              "      <td>...</td>\n",
              "      <td>...</td>\n",
              "      <td>...</td>\n",
              "      <td>...</td>\n",
              "      <td>...</td>\n",
              "      <td>...</td>\n",
              "      <td>...</td>\n",
              "      <td>...</td>\n",
              "      <td>...</td>\n",
              "    </tr>\n",
              "    <tr>\n",
              "      <th>3594</th>\n",
              "      <td>12326</td>\n",
              "      <td>3</td>\n",
              "      <td>145</td>\n",
              "      <td>0</td>\n",
              "      <td>0</td>\n",
              "      <td>53</td>\n",
              "      <td>1783</td>\n",
              "      <td>0</td>\n",
              "      <td>0</td>\n",
              "      <td>12</td>\n",
              "      <td>0</td>\n",
              "      <td>0</td>\n",
              "      <td>4</td>\n",
              "      <td>6</td>\n",
              "      <td>1</td>\n",
              "      <td>1</td>\n",
              "      <td>2</td>\n",
              "      <td>1</td>\n",
              "    </tr>\n",
              "    <tr>\n",
              "      <th>3595</th>\n",
              "      <td>12327</td>\n",
              "      <td>0</td>\n",
              "      <td>0</td>\n",
              "      <td>0</td>\n",
              "      <td>0</td>\n",
              "      <td>5</td>\n",
              "      <td>465</td>\n",
              "      <td>0</td>\n",
              "      <td>0</td>\n",
              "      <td>0</td>\n",
              "      <td>0</td>\n",
              "      <td>1</td>\n",
              "      <td>3</td>\n",
              "      <td>2</td>\n",
              "      <td>1</td>\n",
              "      <td>8</td>\n",
              "      <td>2</td>\n",
              "      <td>1</td>\n",
              "    </tr>\n",
              "    <tr>\n",
              "      <th>3596</th>\n",
              "      <td>12328</td>\n",
              "      <td>0</td>\n",
              "      <td>0</td>\n",
              "      <td>0</td>\n",
              "      <td>0</td>\n",
              "      <td>6</td>\n",
              "      <td>184</td>\n",
              "      <td>0</td>\n",
              "      <td>0</td>\n",
              "      <td>0</td>\n",
              "      <td>0</td>\n",
              "      <td>1</td>\n",
              "      <td>3</td>\n",
              "      <td>2</td>\n",
              "      <td>1</td>\n",
              "      <td>13</td>\n",
              "      <td>2</td>\n",
              "      <td>1</td>\n",
              "    </tr>\n",
              "    <tr>\n",
              "      <th>3597</th>\n",
              "      <td>12329</td>\n",
              "      <td>4</td>\n",
              "      <td>75</td>\n",
              "      <td>0</td>\n",
              "      <td>0</td>\n",
              "      <td>15</td>\n",
              "      <td>346</td>\n",
              "      <td>0</td>\n",
              "      <td>0</td>\n",
              "      <td>0</td>\n",
              "      <td>0</td>\n",
              "      <td>1</td>\n",
              "      <td>2</td>\n",
              "      <td>2</td>\n",
              "      <td>3</td>\n",
              "      <td>11</td>\n",
              "      <td>2</td>\n",
              "      <td>0</td>\n",
              "    </tr>\n",
              "    <tr>\n",
              "      <th>3598</th>\n",
              "      <td>12330</td>\n",
              "      <td>0</td>\n",
              "      <td>0</td>\n",
              "      <td>0</td>\n",
              "      <td>0</td>\n",
              "      <td>3</td>\n",
              "      <td>21</td>\n",
              "      <td>0</td>\n",
              "      <td>0</td>\n",
              "      <td>0</td>\n",
              "      <td>0</td>\n",
              "      <td>1</td>\n",
              "      <td>3</td>\n",
              "      <td>2</td>\n",
              "      <td>1</td>\n",
              "      <td>2</td>\n",
              "      <td>0</td>\n",
              "      <td>1</td>\n",
              "    </tr>\n",
              "  </tbody>\n",
              "</table>\n",
              "<p>3599 rows × 18 columns</p>\n",
              "</div>"
            ],
            "text/plain": [
              "         id  Administrative  ...  VisitorType  Weekend\n",
              "0      8732               0  ...            0        0\n",
              "1      8733               0  ...            1        0\n",
              "2      8734               3  ...            2        0\n",
              "3      8735               5  ...            2        0\n",
              "4      8736               1  ...            0        0\n",
              "...     ...             ...  ...          ...      ...\n",
              "3594  12326               3  ...            2        1\n",
              "3595  12327               0  ...            2        1\n",
              "3596  12328               0  ...            2        1\n",
              "3597  12329               4  ...            2        0\n",
              "3598  12330               0  ...            0        1\n",
              "\n",
              "[3599 rows x 18 columns]"
            ]
          },
          "metadata": {},
          "execution_count": 274
        }
      ]
    },
    {
      "cell_type": "code",
      "source": [
        "y_preds = svm.predict(df_test)\n",
        "\n",
        "subb = pd.DataFrame(df_test['id'])\n",
        "subb['Revenue'] = y_preds.astype(int)\n",
        "\n",
        "subb.to_csv(\"submission.csv\", index=False)\n"
      ],
      "metadata": {
        "id": "TvSTCWzrAuc4"
      },
      "execution_count": null,
      "outputs": []
    },
    {
      "cell_type": "code",
      "source": [
        "subb"
      ],
      "metadata": {
        "colab": {
          "base_uri": "https://localhost:8080/",
          "height": 423
        },
        "id": "g4mUVuZkCvaJ",
        "outputId": "67a64303-0b7c-438a-afd7-4e132a1987d6"
      },
      "execution_count": null,
      "outputs": [
        {
          "output_type": "execute_result",
          "data": {
            "text/html": [
              "<div>\n",
              "<style scoped>\n",
              "    .dataframe tbody tr th:only-of-type {\n",
              "        vertical-align: middle;\n",
              "    }\n",
              "\n",
              "    .dataframe tbody tr th {\n",
              "        vertical-align: top;\n",
              "    }\n",
              "\n",
              "    .dataframe thead th {\n",
              "        text-align: right;\n",
              "    }\n",
              "</style>\n",
              "<table border=\"1\" class=\"dataframe\">\n",
              "  <thead>\n",
              "    <tr style=\"text-align: right;\">\n",
              "      <th></th>\n",
              "      <th>id</th>\n",
              "      <th>Revenue</th>\n",
              "    </tr>\n",
              "  </thead>\n",
              "  <tbody>\n",
              "    <tr>\n",
              "      <th>0</th>\n",
              "      <td>8732</td>\n",
              "      <td>0</td>\n",
              "    </tr>\n",
              "    <tr>\n",
              "      <th>1</th>\n",
              "      <td>8733</td>\n",
              "      <td>0</td>\n",
              "    </tr>\n",
              "    <tr>\n",
              "      <th>2</th>\n",
              "      <td>8734</td>\n",
              "      <td>0</td>\n",
              "    </tr>\n",
              "    <tr>\n",
              "      <th>3</th>\n",
              "      <td>8735</td>\n",
              "      <td>0</td>\n",
              "    </tr>\n",
              "    <tr>\n",
              "      <th>4</th>\n",
              "      <td>8736</td>\n",
              "      <td>0</td>\n",
              "    </tr>\n",
              "    <tr>\n",
              "      <th>...</th>\n",
              "      <td>...</td>\n",
              "      <td>...</td>\n",
              "    </tr>\n",
              "    <tr>\n",
              "      <th>3594</th>\n",
              "      <td>12326</td>\n",
              "      <td>0</td>\n",
              "    </tr>\n",
              "    <tr>\n",
              "      <th>3595</th>\n",
              "      <td>12327</td>\n",
              "      <td>0</td>\n",
              "    </tr>\n",
              "    <tr>\n",
              "      <th>3596</th>\n",
              "      <td>12328</td>\n",
              "      <td>0</td>\n",
              "    </tr>\n",
              "    <tr>\n",
              "      <th>3597</th>\n",
              "      <td>12329</td>\n",
              "      <td>0</td>\n",
              "    </tr>\n",
              "    <tr>\n",
              "      <th>3598</th>\n",
              "      <td>12330</td>\n",
              "      <td>0</td>\n",
              "    </tr>\n",
              "  </tbody>\n",
              "</table>\n",
              "<p>3599 rows × 2 columns</p>\n",
              "</div>"
            ],
            "text/plain": [
              "         id  Revenue\n",
              "0      8732        0\n",
              "1      8733        0\n",
              "2      8734        0\n",
              "3      8735        0\n",
              "4      8736        0\n",
              "...     ...      ...\n",
              "3594  12326        0\n",
              "3595  12327        0\n",
              "3596  12328        0\n",
              "3597  12329        0\n",
              "3598  12330        0\n",
              "\n",
              "[3599 rows x 2 columns]"
            ]
          },
          "metadata": {},
          "execution_count": 243
        }
      ]
    }
  ]
}